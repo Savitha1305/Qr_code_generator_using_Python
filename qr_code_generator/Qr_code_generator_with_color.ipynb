{
 "cells": [
  {
   "cell_type": "code",
   "execution_count": 2,
   "id": "62755bc6-cbff-4227-ad09-13c19d24d65e",
   "metadata": {},
   "outputs": [],
   "source": [
    "import qrcode"
   ]
  },
  {
   "cell_type": "code",
   "execution_count": 3,
   "id": "dacf1365-ced6-41ec-99d4-32ca5c497cf3",
   "metadata": {},
   "outputs": [],
   "source": [
    "from PIL import Image"
   ]
  },
  {
   "cell_type": "code",
   "execution_count": 4,
   "id": "ae1c51da-5152-4f74-b71d-8765c01a38c7",
   "metadata": {},
   "outputs": [],
   "source": [
    "qr = qrcode.QRCode( version = 1,\n",
    "                   error_correction =  qrcode.constants.ERROR_CORRECT_H,\n",
    "                   box_size = 10, border = 4, )\n",
    "qr.add_data(\"https://github.com/Savitha1305/E-Learning\")\n",
    "qr.make(fit = True)\n",
    "img = qr.make_image(fill_color = \"red\", back_color = \"white\")\n",
    "img.save(\"E_learning.png\")"
   ]
  },
  {
   "cell_type": "code",
   "execution_count": null,
   "id": "44335a51",
   "metadata": {},
   "outputs": [],
   "source": []
  }
 ],
 "metadata": {
  "kernelspec": {
   "display_name": "base",
   "language": "python",
   "name": "python3"
  },
  "language_info": {
   "codemirror_mode": {
    "name": "ipython",
    "version": 3
   },
   "file_extension": ".py",
   "mimetype": "text/x-python",
   "name": "python",
   "nbconvert_exporter": "python",
   "pygments_lexer": "ipython3",
   "version": "3.12.4"
  }
 },
 "nbformat": 4,
 "nbformat_minor": 5
}
